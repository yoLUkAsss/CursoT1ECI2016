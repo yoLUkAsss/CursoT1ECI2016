{
  "nbformat": 4,
  "nbformat_minor": 0,
  "metadata": {
    "colab": {
      "provenance": [],
      "authorship_tag": "ABX9TyNwmUx0+5UVVC9TWvq/Rt4S",
      "include_colab_link": true
    },
    "kernelspec": {
      "name": "python3",
      "display_name": "Python 3"
    },
    "language_info": {
      "name": "python"
    }
  },
  "cells": [
    {
      "cell_type": "markdown",
      "metadata": {
        "id": "view-in-github",
        "colab_type": "text"
      },
      "source": [
        "<a href=\"https://colab.research.google.com/github/yoLUkAsss/CursoT1ECI2016/blob/master/TP1.ipynb\" target=\"_parent\"><img src=\"https://colab.research.google.com/assets/colab-badge.svg\" alt=\"Open In Colab\"/></a>"
      ]
    },
    {
      "cell_type": "markdown",
      "source": [
        "## Desafio 1\n",
        "\n",
        "Macromoleculas que almacena informacion sobre la identidad de un organismo dado: Acidos Nucleicos\n",
        "\n",
        "## Desafio 2\n",
        "\n",
        "Se podria expresar la informacion de la estructura primaria en un String, 22 aminoacidos diferentes, cada uno expresado por una letra del alfabeto particular.\n",
        "\n",
        "## Desafio 3\n",
        "\n",
        "Se puede expresar la informacion de cada aminoacido y un tupla de 3 valores que indiquen su ubicacion espacial.\n",
        "\n",
        "Algo asi como: [A1: [x1,y1,z1], A2: [x2,y2,z2], A3: [x3,y3,z3]]\n",
        "\n",
        "## Desafio 4\n",
        "\n",
        "* Difracción de rayos X y estructura del ADN\n",
        "\n",
        "Rosalind Franklin es especialmente conocida por su trabajo en la difracción de rayos X de fibras de ADN, que permitió obtener información valiosa sobre la estructura de la molécula. Sus imágenes de difracción proporcionaron pistas cruciales sobre la naturaleza helicoidal y repetitiva del ADN.\n",
        "\n",
        "* Contribuciones a la investigación del virus del tabaco\n",
        "\n",
        "Antes de trabajar en el ADN, Franklin realizó investigaciones sobre la estructura de los virus del tabaco. Su enfoque en la difracción de rayos X permitió obtener información detallada sobre las estructuras de estos virus y ayudó a avanzar en la comprensión de las estructuras biológicas en general.\n",
        "\n",
        "* Investigaciones sobre el carbón y los materiales carbonosos\n",
        "\n",
        "Rosalind Franklin también realizó investigaciones en el campo de la química de carbón y los materiales carbonosos. Sus trabajos en esta área contribuyeron al entendimiento de las estructuras moleculares de los materiales carbonosos y sus propiedades.\n",
        "\n",
        "* Contribuciones a la cristalografía\n",
        "\n",
        "Franklin fue una destacada cristalógrafa, y su experiencia en el análisis de patrones de difracción de rayos X le permitió hacer contribuciones en varios campos de la ciencia, incluida la biología molecular y la química de los materiales."
      ],
      "metadata": {
        "id": "7L-LVAvJV6fE"
      }
    },
    {
      "cell_type": "markdown",
      "source": [
        "## Desafio 5"
      ],
      "metadata": {
        "id": "GMIgh3vkEUXw"
      }
    },
    {
      "cell_type": "code",
      "source": [
        "import operator\n",
        "\n",
        "## Probabilidad de cada amino acido de conformar el tipo de plegamiento en la estructura secundaria\n",
        "#### Pueden estar incorrectos\n",
        "aminoacid_data = {\n",
        "    'A': {'name': 'Alanine', 'alpha_helix': 0.85, 'beta_folded': 0.05, 'loop': 0.1},\n",
        "    'R': {'name': 'Arginine', 'alpha_helix': 0.2, 'beta_folded': 0.1, 'loop': 0.7},\n",
        "    'N': {'name': 'Asparagine', 'alpha_helix': 0.4, 'beta_folded': 0.1, 'loop': 0.5},\n",
        "    'D': {'name': 'Aspartic Acid', 'alpha_helix': 0.1, 'beta_folded': 0.2, 'loop': 0.7},\n",
        "    'C': {'name': 'Cysteine', 'alpha_helix': 0.05, 'beta_folded': 0.1, 'loop': 0.85},\n",
        "    'Q': {'name': 'Glutamine', 'alpha_helix': 0.3, 'beta_folded': 0.2, 'loop': 0.5},\n",
        "    'E': {'name': 'Glutamic Acid', 'alpha_helix': 0.1, 'beta_folded': 0.3, 'loop': 0.6},\n",
        "    'G': {'name': 'Glycine', 'alpha_helix': 0.5, 'beta_folded': 0.1, 'loop': 0.4},\n",
        "    'H': {'name': 'Histidine', 'alpha_helix': 0.3, 'beta_folded': 0.2, 'loop': 0.5},\n",
        "    'I': {'name': 'Isoleucine', 'alpha_helix': 0.8, 'beta_folded': 0.05, 'loop': 0.15},\n",
        "    'L': {'name': 'Leucine', 'alpha_helix': 0.7, 'beta_folded': 0.1, 'loop': 0.2},\n",
        "    'K': {'name': 'Lysine', 'alpha_helix': 0.1, 'beta_folded': 0.2, 'loop': 0.7},\n",
        "    'M': {'name': 'Methionine', 'alpha_helix': 0.6, 'beta_folded': 0.1, 'loop': 0.3},\n",
        "    'F': {'name': 'Phenylalanine', 'alpha_helix': 0.7, 'beta_folded': 0.1, 'loop': 0.2},\n",
        "    'P': {'name': 'Proline', 'alpha_helix': 0.2, 'beta_folded': 0.1, 'loop': 0.7},\n",
        "    'S': {'name': 'Serine', 'alpha_helix': 0.4, 'beta_folded': 0.1, 'loop': 0.5},\n",
        "    'T': {'name': 'Threonine', 'alpha_helix': 0.5, 'beta_folded': 0.1, 'loop': 0.4},\n",
        "    'W': {'name': 'Tryptophan', 'alpha_helix': 0.6, 'beta_folded': 0.1, 'loop': 0.3},\n",
        "    'Y': {'name': 'Tyrosine', 'alpha_helix': 0.4, 'beta_folded': 0.2, 'loop': 0.4},\n",
        "    'V': {'name': 'Valine', 'alpha_helix': 0.8, 'beta_folded': 0.05, 'loop': 0.15},\n",
        "}\n",
        "\n",
        "def predict(protein):\n",
        "  ## protein: String\n",
        "\n",
        "  types = \"\" # Resultado, String - H es Alfa-Helice, B es Beta Plegada, L loop\n",
        "  probs = [] # Con q prob de serlo.\n",
        "\n",
        "  ## se evalua cada aminoacido de la cadena\n",
        "\n",
        "  for amino in protein:\n",
        "    if aminoacid_data[amino] != None:\n",
        "      alpha = aminoacid_data[amino]['alpha_helix']\n",
        "      beta = aminoacid_data[amino]['beta_folded']\n",
        "      loop = aminoacid_data[amino]['loop']\n",
        "\n",
        "      ## Basicamente la opcion es la de mayor prob - simple y naive\n",
        "      if (max(alpha, beta, loop) == alpha):\n",
        "        types += \"H\"\n",
        "        probs.append(alpha)\n",
        "      elif (max(alpha, beta, loop) == beta):\n",
        "        types.append(\"B\")\n",
        "        probs.append(beta)\n",
        "      else:\n",
        "        types += \"L\"\n",
        "        probs.append(loop)\n",
        "\n",
        "  return types, probs\n",
        "\n",
        "\n",
        "## Ejemplo de uso\n",
        "protein_string = \"MQVWPIEGIKKFETLSYLPPLTVEDLLKQIEYLLRSKWVPCLEFSKVGFVYRENHRSPGYYDGRYWTMWKLPMFGCTDATQVLKELEEAKKAYPDAFVRIIGFDNVRQVQLISFIAYKPPGC\"\n",
        "\n",
        "prediction, probs = predict(protein=protein_string)\n",
        "# print(probs)\n",
        "\n",
        "print(prediction)\n",
        "# print(len(prediction) == len(protein_string))\n"
      ],
      "metadata": {
        "id": "-DCo1_5aV77p",
        "colab": {
          "base_uri": "https://localhost:8080/"
        },
        "outputId": "f95314a3-02c2-4197-a777-507f41198b31"
      },
      "execution_count": null,
      "outputs": [
        {
          "output_type": "stream",
          "name": "stdout",
          "text": [
            "HLHHLHLHHLLHLHHLHHLLHHHLLHHLLHLHHHLLLHHLLHLHLLHHHHHLLLLLLLHHHLHLHHHHHLHLHHHLHLHHLHHLLHLLHLLHHLLHHHLHHHHLLHLLHLHHLHHHHLLLHL\n"
          ]
        }
      ]
    },
    {
      "cell_type": "markdown",
      "source": [
        "## D"
      ],
      "metadata": {
        "id": "6tp9kYwQEgDF"
      }
    }
  ]
}